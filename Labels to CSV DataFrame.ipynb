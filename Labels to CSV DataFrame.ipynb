{
 "cells": [
  {
   "cell_type": "markdown",
   "metadata": {},
   "source": [
    "## Se va a crear un CSV con las etiquetas descargadas de Open Image v6\n",
    "Cuando se descargó las imágenes se generó una carpeta paor cada clase distinta con las imágenes y dentro de cada clase encontramos otra carpeta llamada labels donde se tiene cada un txt por cada imagen con las coordenadas del bounding box en el formato xmin, ymin, xmax e y max. Obtendremos la información de los txt y los pasaremos a un Dataframe con el formato x, y, heigth y weigth, para posteriormente utilizarlos en los Transformers DETR.\n",
    "  \n",
    "Con la descarga de las imágenes ya se descarga un CSV con la información pero es demasiado grande para usar ya que están TODAS las distintas clases que tiene Open Image v6, es mas nisiquiera se puede abrir con algunos editores de texto."
   ]
  },
  {
   "cell_type": "code",
   "execution_count": 1,
   "metadata": {},
   "outputs": [],
   "source": [
    "import pandas as pd\n",
    "import numpy as np\n",
    "import os\n",
    "import re\n",
    "from PIL import Image\n",
    "\n",
    "label_path = \"labels\" #Nombre de la carpeta con las etiquetas\n",
    "classes_names = [\"mouse\", \"red_panda\"] #nombre de las clases y de las carpetas donde se encuentran las imágenes\n",
    "path_to_classes = \"TransformerDataset\\\\train\"\n",
    "path = os.getcwd()"
   ]
  },
  {
   "cell_type": "code",
   "execution_count": 2,
   "metadata": {},
   "outputs": [
    {
     "name": "stdout",
     "output_type": "stream",
     "text": [
      "300\n"
     ]
    }
   ],
   "source": [
    "#Obtenemos los nombres de los txt, que es el mismo que el de las imágenes\n",
    "txt_names = [f for f in os.listdir(os.path.join(path,*[path_to_classes,classes_names[0],label_path])) \n",
    "               if os.path.isfile(os.path.join(path,*[path_to_classes,classes_names[0],label_path,f])) \n",
    "                                     and f.endswith(\".txt\")]\n",
    "print(len(txt_names))"
   ]
  },
  {
   "cell_type": "code",
   "execution_count": 3,
   "metadata": {},
   "outputs": [
    {
     "name": "stdout",
     "output_type": "stream",
     "text": [
      "300\n",
      "300\n"
     ]
    }
   ],
   "source": [
    "#Obtenemos una lista de todas las imágenes para comprobar si existe el archivo label correspondiente\n",
    "img_list = [f for f in os.listdir(os.path.join(path,*[path_to_classes,classes_names[0]])) \n",
    "               if os.path.isfile(os.path.join(path,*[path_to_classes,classes_names[0],f])) \n",
    "                                     and f.endswith(\".jpg\")]\n",
    "\n",
    "txt_names = [f for f in os.listdir(os.path.join(path,*[path_to_classes,classes_names[0],label_path])) \n",
    "               if os.path.isfile(os.path.join(path,*[path_to_classes,classes_names[0],label_path,f])) \n",
    "                                     and f.endswith(\".txt\") and f[:-4]+\".jpg\" in img_list]\n",
    "\n",
    "print(len(img_list))\n",
    "print(len(txt_names))"
   ]
  },
  {
   "cell_type": "markdown",
   "metadata": {},
   "source": [
    "Diccionario de lista que almacena los datos para luego generar el DataFrame con los etiquetados."
   ]
  },
  {
   "cell_type": "code",
   "execution_count": 4,
   "metadata": {},
   "outputs": [],
   "source": [
    "#Diccionario de vectores para el DataFrame\n",
    "dictionary = {'image_name':[], \n",
    "           'x':[],\n",
    "           'y':[],\n",
    "           'width':[],\n",
    "           'height':[],\n",
    "           'class':[] } "
   ]
  },
  {
   "cell_type": "markdown",
   "metadata": {},
   "source": [
    "Hay que hacer el texto a continuación por cada clase distinta que tengamos en classes_names. "
   ]
  },
  {
   "cell_type": "code",
   "execution_count": 5,
   "metadata": {},
   "outputs": [],
   "source": [
    "pattern = re.compile(\"([a-zA-Z_]*) (\\d*.\\d*) (\\d*.\\d*) (\\d*.\\d*) (\\d*.\\d*)\")\n",
    "\n",
    "for name in txt_names:\n",
    "    #Abrimos cada txt\n",
    "    for i, line in enumerate(open(os.path.join(path,*[path_to_classes,classes_names[0],label_path,name]))):\n",
    "        match  = re.search(pattern,line)\n",
    "        if match:\n",
    "            dictionary[\"image_name\"].append(name[0:-4]+\".jpg\")\n",
    "            dictionary[\"class\"].append(match.group(1))\n",
    "            xmin = float(match.group(2))\n",
    "            ymin = float(match.group(3))\n",
    "            xmax = float(match.group(4))\n",
    "            ymax = float(match.group(5))    \n",
    "            \n",
    "            #El tamaño del bounding box se calcula de la siguiente manera:\n",
    "            bb_width = xmax-xmin\n",
    "            bb_height = ymax-ymin\n",
    "            dictionary[\"width\"].append(bb_width)\n",
    "            dictionary[\"height\"].append(bb_height)\n",
    "            \n",
    "            #Los valores x e y que son el centro del rectángulo se calculan de la siguiente manera:\n",
    "            x_center = xmin + bb_width/2\n",
    "            y_center = ymin + bb_height/2\n",
    "            dictionary[\"x\"].append(x_center)\n",
    "            dictionary[\"y\"].append(y_center)\n",
    " "
   ]
  },
  {
   "cell_type": "code",
   "execution_count": 6,
   "metadata": {},
   "outputs": [
    {
     "name": "stdout",
     "output_type": "stream",
     "text": [
      "372\n",
      "372\n",
      "372\n",
      "372\n",
      "372\n",
      "372\n"
     ]
    }
   ],
   "source": [
    "#Comprobamos los length\n",
    "print(len(dictionary[\"image_name\"]))\n",
    "print(len(dictionary[\"class\"]))\n",
    "print(len(dictionary[\"x\"]))\n",
    "print(len(dictionary[\"y\"]))\n",
    "print(len(dictionary[\"width\"]))\n",
    "print(len(dictionary[\"height\"]))"
   ]
  },
  {
   "cell_type": "code",
   "execution_count": 7,
   "metadata": {},
   "outputs": [
    {
     "name": "stdout",
     "output_type": "stream",
     "text": [
      "<class 'pandas.core.frame.DataFrame'>\n",
      "RangeIndex: 372 entries, 0 to 371\n",
      "Data columns (total 6 columns):\n",
      " #   Column      Non-Null Count  Dtype  \n",
      "---  ------      --------------  -----  \n",
      " 0   image_name  372 non-null    object \n",
      " 1   x           372 non-null    float64\n",
      " 2   y           372 non-null    float64\n",
      " 3   width       372 non-null    float64\n",
      " 4   height      372 non-null    float64\n",
      " 5   class       372 non-null    object \n",
      "dtypes: float64(4), object(2)\n",
      "memory usage: 17.6+ KB\n"
     ]
    }
   ],
   "source": [
    "df = pd.DataFrame(dictionary) \n",
    "df.info()"
   ]
  },
  {
   "cell_type": "code",
   "execution_count": 8,
   "metadata": {},
   "outputs": [],
   "source": [
    "df.to_csv(os.path.join(path,*[path_to_classes,\"train_mouse_red_panda.csv\"]), index=False)"
   ]
  },
  {
   "cell_type": "markdown",
   "metadata": {},
   "source": [
    "## Visualización de DataFrames"
   ]
  },
  {
   "cell_type": "code",
   "execution_count": 10,
   "metadata": {},
   "outputs": [
    {
     "data": {
      "text/html": [
       "<div>\n",
       "<style scoped>\n",
       "    .dataframe tbody tr th:only-of-type {\n",
       "        vertical-align: middle;\n",
       "    }\n",
       "\n",
       "    .dataframe tbody tr th {\n",
       "        vertical-align: top;\n",
       "    }\n",
       "\n",
       "    .dataframe thead th {\n",
       "        text-align: right;\n",
       "    }\n",
       "</style>\n",
       "<table border=\"1\" class=\"dataframe\">\n",
       "  <thead>\n",
       "    <tr style=\"text-align: right;\">\n",
       "      <th></th>\n",
       "      <th>image_name</th>\n",
       "      <th>x</th>\n",
       "      <th>y</th>\n",
       "      <th>width</th>\n",
       "      <th>height</th>\n",
       "      <th>class</th>\n",
       "    </tr>\n",
       "  </thead>\n",
       "  <tbody>\n",
       "    <tr>\n",
       "      <th>0</th>\n",
       "      <td>00165018e603855f.jpg</td>\n",
       "      <td>505.280000</td>\n",
       "      <td>363.691200</td>\n",
       "      <td>366.720000</td>\n",
       "      <td>212.580240</td>\n",
       "      <td>mouse</td>\n",
       "    </tr>\n",
       "    <tr>\n",
       "      <th>1</th>\n",
       "      <td>001d91060bb76e5e.jpg</td>\n",
       "      <td>524.399616</td>\n",
       "      <td>410.799900</td>\n",
       "      <td>912.799744</td>\n",
       "      <td>818.399400</td>\n",
       "      <td>mouse</td>\n",
       "    </tr>\n",
       "    <tr>\n",
       "      <th>2</th>\n",
       "      <td>001e1cf3abbee3cd.jpg</td>\n",
       "      <td>512.960000</td>\n",
       "      <td>287.072198</td>\n",
       "      <td>832.640000</td>\n",
       "      <td>512.628655</td>\n",
       "      <td>mouse</td>\n",
       "    </tr>\n",
       "    <tr>\n",
       "      <th>3</th>\n",
       "      <td>002c5a9026f5415c.jpg</td>\n",
       "      <td>499.520000</td>\n",
       "      <td>352.061912</td>\n",
       "      <td>188.800000</td>\n",
       "      <td>218.917892</td>\n",
       "      <td>mouse</td>\n",
       "    </tr>\n",
       "    <tr>\n",
       "      <th>4</th>\n",
       "      <td>003de0d25a90a01a.jpg</td>\n",
       "      <td>582.808576</td>\n",
       "      <td>336.810000</td>\n",
       "      <td>878.024704</td>\n",
       "      <td>630.020436</td>\n",
       "      <td>mouse</td>\n",
       "    </tr>\n",
       "  </tbody>\n",
       "</table>\n",
       "</div>"
      ],
      "text/plain": [
       "             image_name           x           y       width      height  class\n",
       "0  00165018e603855f.jpg  505.280000  363.691200  366.720000  212.580240  mouse\n",
       "1  001d91060bb76e5e.jpg  524.399616  410.799900  912.799744  818.399400  mouse\n",
       "2  001e1cf3abbee3cd.jpg  512.960000  287.072198  832.640000  512.628655  mouse\n",
       "3  002c5a9026f5415c.jpg  499.520000  352.061912  188.800000  218.917892  mouse\n",
       "4  003de0d25a90a01a.jpg  582.808576  336.810000  878.024704  630.020436  mouse"
      ]
     },
     "execution_count": 10,
     "metadata": {},
     "output_type": "execute_result"
    }
   ],
   "source": [
    "df = pd.read_csv(os.path.join(path,*[path_to_classes,\"train_mouse_red_panda.csv\"]))\n",
    "df.head()"
   ]
  },
  {
   "cell_type": "code",
   "execution_count": null,
   "metadata": {},
   "outputs": [],
   "source": []
  }
 ],
 "metadata": {
  "kernelspec": {
   "display_name": "Python 3",
   "language": "python",
   "name": "python3"
  },
  "language_info": {
   "codemirror_mode": {
    "name": "ipython",
    "version": 3
   },
   "file_extension": ".py",
   "mimetype": "text/x-python",
   "name": "python",
   "nbconvert_exporter": "python",
   "pygments_lexer": "ipython3",
   "version": "3.7.9"
  }
 },
 "nbformat": 4,
 "nbformat_minor": 4
}
